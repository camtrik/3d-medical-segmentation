{
 "cells": [
  {
   "cell_type": "code",
   "execution_count": 8,
   "metadata": {},
   "outputs": [],
   "source": [
    "import torch \n",
    "import numpy as np\n",
    "import glob\n",
    "from torch.utils.data import Dataset\n",
    "\n",
    "\n",
    "class BratsDataset(Dataset):\n",
    "    def __init__(self, img_path, mask_path, aug=False):\n",
    "        # 读取img_path下所有.npy文件\n",
    "        self.img_paths = glob.glob(img_path + '/*.npy')\n",
    "        self.mask_paths = glob.glob(mask_path + '/*.npy')\n",
    "\n",
    "    def __len__(self):\n",
    "        return len(self.img_paths)\n",
    "\n",
    "    def __getitem__(self, idx):\n",
    "        img_path = self.img_paths[idx]\n",
    "        mask_path = self.mask_paths[idx]\n",
    "        npimage = np.load(img_path)\n",
    "        npmask = np.load(mask_path)\n",
    "        print(npimage.shape)\n",
    "        print(npmask.shape)\n",
    "        npimage = npimage.transpose((3, 0, 1, 2))\n",
    "        npmask = npmask.transpose((3, 0, 1, 2))\n",
    "        # npmask = npmask.astype(\"float32\")\n",
    "        # npimage = npimage.astype(\"float32\")\n",
    "\n",
    "        return npimage,npmask\n"
   ]
  },
  {
   "cell_type": "code",
   "execution_count": 9,
   "metadata": {},
   "outputs": [
    {
     "name": "stdout",
     "output_type": "stream",
     "text": [
      "(32, 180, 180, 4)\n",
      "(32, 180, 180, 3)\n"
     ]
    },
    {
     "data": {
      "text/plain": [
       "numpy.ndarray"
      ]
     },
     "execution_count": 9,
     "metadata": {},
     "output_type": "execute_result"
    }
   ],
   "source": [
    "img_path = '../BraTs/processed/train_image/'\n",
    "mask_path = '../BraTs/processed/train_mask/'\n",
    "dataset = BratsDataset(img_path, mask_path)\n",
    "type(dataset[0][0])\n"
   ]
  },
  {
   "cell_type": "code",
   "execution_count": null,
   "metadata": {},
   "outputs": [],
   "source": []
  }
 ],
 "metadata": {
  "kernelspec": {
   "display_name": "ebbi",
   "language": "python",
   "name": "python3"
  },
  "language_info": {
   "codemirror_mode": {
    "name": "ipython",
    "version": 3
   },
   "file_extension": ".py",
   "mimetype": "text/x-python",
   "name": "python",
   "nbconvert_exporter": "python",
   "pygments_lexer": "ipython3",
   "version": "3.9.13"
  },
  "orig_nbformat": 4
 },
 "nbformat": 4,
 "nbformat_minor": 2
}
